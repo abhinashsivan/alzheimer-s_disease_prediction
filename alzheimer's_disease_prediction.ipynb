{
  "nbformat": 4,
  "nbformat_minor": 0,
  "metadata": {
    "colab": {
      "name": "alzheimer's_disease_prediction.ipynb",
      "provenance": [],
      "toc_visible": true
    },
    "kernelspec": {
      "name": "python3",
      "display_name": "Python 3"
    }
  },
  "cells": [
    {
      "cell_type": "code",
      "metadata": {
        "id": "SFFQd2g9ngxc",
        "colab_type": "code",
        "outputId": "58765f3d-5cde-45f3-ca1b-7fff044b43f4",
        "colab": {
          "base_uri": "https://localhost:8080/",
          "height": 226
        }
      },
      "source": [
        "import numpy as np\n",
        "import pandas as pd\n",
        "df = pd.read_csv(\"m.csv\")\n",
        "df.head()"
      ],
      "execution_count": 4,
      "outputs": [
        {
          "output_type": "execute_result",
          "data": {
            "text/html": [
              "<div>\n",
              "<style scoped>\n",
              "    .dataframe tbody tr th:only-of-type {\n",
              "        vertical-align: middle;\n",
              "    }\n",
              "\n",
              "    .dataframe tbody tr th {\n",
              "        vertical-align: top;\n",
              "    }\n",
              "\n",
              "    .dataframe thead th {\n",
              "        text-align: right;\n",
              "    }\n",
              "</style>\n",
              "<table border=\"1\" class=\"dataframe\">\n",
              "  <thead>\n",
              "    <tr style=\"text-align: right;\">\n",
              "      <th></th>\n",
              "      <th>255.926593406593</th>\n",
              "      <th>7.24730769230769</th>\n",
              "      <th>0.524508702666768</th>\n",
              "      <th>0.462202549120488</th>\n",
              "      <th>0.982833590043034</th>\n",
              "      <th>0.213631196413477</th>\n",
              "      <th>1</th>\n",
              "    </tr>\n",
              "  </thead>\n",
              "  <tbody>\n",
              "    <tr>\n",
              "      <th>0</th>\n",
              "      <td>272.584011</td>\n",
              "      <td>8.536484</td>\n",
              "      <td>0.488917</td>\n",
              "      <td>0.440670</td>\n",
              "      <td>0.979043</td>\n",
              "      <td>0.194190</td>\n",
              "      <td>1</td>\n",
              "    </tr>\n",
              "    <tr>\n",
              "      <th>1</th>\n",
              "      <td>212.557857</td>\n",
              "      <td>7.440659</td>\n",
              "      <td>0.512013</td>\n",
              "      <td>0.457799</td>\n",
              "      <td>0.984844</td>\n",
              "      <td>0.209580</td>\n",
              "      <td>1</td>\n",
              "    </tr>\n",
              "    <tr>\n",
              "      <th>2</th>\n",
              "      <td>243.232198</td>\n",
              "      <td>7.932912</td>\n",
              "      <td>0.494092</td>\n",
              "      <td>0.441390</td>\n",
              "      <td>0.983098</td>\n",
              "      <td>0.194825</td>\n",
              "      <td>1</td>\n",
              "    </tr>\n",
              "    <tr>\n",
              "      <th>3</th>\n",
              "      <td>224.633736</td>\n",
              "      <td>7.144615</td>\n",
              "      <td>0.528405</td>\n",
              "      <td>0.462906</td>\n",
              "      <td>0.986331</td>\n",
              "      <td>0.214282</td>\n",
              "      <td>1</td>\n",
              "    </tr>\n",
              "    <tr>\n",
              "      <th>4</th>\n",
              "      <td>257.166593</td>\n",
              "      <td>7.989945</td>\n",
              "      <td>0.491277</td>\n",
              "      <td>0.440513</td>\n",
              "      <td>0.982191</td>\n",
              "      <td>0.194051</td>\n",
              "      <td>1</td>\n",
              "    </tr>\n",
              "  </tbody>\n",
              "</table>\n",
              "</div>"
            ],
            "text/plain": [
              "   255.926593406593  7.24730769230769  ...  0.213631196413477  1\n",
              "0        272.584011          8.536484  ...           0.194190  1\n",
              "1        212.557857          7.440659  ...           0.209580  1\n",
              "2        243.232198          7.932912  ...           0.194825  1\n",
              "3        224.633736          7.144615  ...           0.214282  1\n",
              "4        257.166593          7.989945  ...           0.194051  1\n",
              "\n",
              "[5 rows x 7 columns]"
            ]
          },
          "metadata": {
            "tags": []
          },
          "execution_count": 4
        }
      ]
    },
    {
      "cell_type": "code",
      "metadata": {
        "id": "olI7N7qtntcs",
        "colab_type": "code",
        "colab": {}
      },
      "source": [
        "from sklearn.preprocessing import StandardScaler\n",
        "X_data=df.iloc[:,:5].values\n",
        "Y_data=df.iloc[:,6].values\n",
        "scaler = StandardScaler()\n",
        "X_data = scaler.fit_transform(X_data)"
      ],
      "execution_count": 0,
      "outputs": []
    },
    {
      "cell_type": "code",
      "metadata": {
        "id": "UltrxyzSnxV2",
        "colab_type": "code",
        "colab": {}
      },
      "source": [
        "from sklearn.model_selection import train_test_split\n",
        "X_train, X_test, Y_train, Y_test = train_test_split(X_data, Y_data, test_size=0.2, random_state=42)"
      ],
      "execution_count": 0,
      "outputs": []
    },
    {
      "cell_type": "code",
      "metadata": {
        "id": "ZFpgIuRon0rA",
        "colab_type": "code",
        "outputId": "7e18f34f-0cb3-4a9e-c364-93711635456e",
        "colab": {
          "base_uri": "https://localhost:8080/",
          "height": 141
        }
      },
      "source": [
        "from imblearn.over_sampling import SMOTE\n",
        "\n",
        "X_train_res, Y_train_res = SMOTE().fit_sample(X_train, Y_train)"
      ],
      "execution_count": 7,
      "outputs": [
        {
          "output_type": "stream",
          "text": [
            "/usr/local/lib/python3.6/dist-packages/sklearn/externals/six.py:31: FutureWarning: The module is deprecated in version 0.21 and will be removed in version 0.23 since we've dropped support for Python 2.7. Please rely on the official version of six (https://pypi.org/project/six/).\n",
            "  \"(https://pypi.org/project/six/).\", FutureWarning)\n",
            "/usr/local/lib/python3.6/dist-packages/sklearn/utils/deprecation.py:144: FutureWarning: The sklearn.neighbors.base module is  deprecated in version 0.22 and will be removed in version 0.24. The corresponding classes / functions should instead be imported from sklearn.neighbors. Anything that cannot be imported from sklearn.neighbors is now part of the private API.\n",
            "  warnings.warn(message, FutureWarning)\n",
            "/usr/local/lib/python3.6/dist-packages/sklearn/utils/deprecation.py:87: FutureWarning: Function safe_indexing is deprecated; safe_indexing is deprecated in version 0.22 and will be removed in version 0.24.\n",
            "  warnings.warn(msg, category=FutureWarning)\n"
          ],
          "name": "stderr"
        }
      ]
    },
    {
      "cell_type": "code",
      "metadata": {
        "id": "z50POKF8n4YH",
        "colab_type": "code",
        "outputId": "ade09ab4-5d65-42c1-d719-f0a939052ce2",
        "colab": {
          "base_uri": "https://localhost:8080/",
          "height": 191
        }
      },
      "source": [
        "#X_train_res=X_train_res.astype(int)\n",
        "#Y_train_res=Y_train_res.astype(int)\n",
        "\n",
        "from sklearn.linear_model import SGDClassifier\n",
        "sg = SGDClassifier(random_state=42)\n",
        "sg.fit(X_train_res,Y_train_res)\n",
        "pred = sg.predict(X_test)\n",
        "from sklearn.metrics import classification_report,accuracy_score\n",
        "print(classification_report(Y_test, pred))\n",
        "print(accuracy_score(Y_test, pred))"
      ],
      "execution_count": 10,
      "outputs": [
        {
          "output_type": "stream",
          "text": [
            "              precision    recall  f1-score   support\n",
            "\n",
            "           0       0.68      0.64      0.66       484\n",
            "           1       0.70      0.73      0.71       540\n",
            "\n",
            "    accuracy                           0.69      1024\n",
            "   macro avg       0.69      0.69      0.69      1024\n",
            "weighted avg       0.69      0.69      0.69      1024\n",
            "\n",
            "0.69140625\n"
          ],
          "name": "stdout"
        }
      ]
    },
    {
      "cell_type": "code",
      "metadata": {
        "id": "6SXPfEeBX2YP",
        "colab_type": "code",
        "colab": {}
      },
      "source": [
        ""
      ],
      "execution_count": 0,
      "outputs": []
    }
  ]
}